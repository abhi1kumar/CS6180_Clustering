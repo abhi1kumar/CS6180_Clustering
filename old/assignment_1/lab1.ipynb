{
 "cells": [
  {
   "cell_type": "markdown",
   "metadata": {
    "deletable": false,
    "nbgrader": {
     "checksum": "35f9f155878a4bb99a697df4f5aacd6b",
     "grade": false,
     "grade_id": "description",
     "locked": true,
     "solution": false
    }
   },
   "source": "# K-Centers\n\nJust some boilerplate to include all of the packages we need, and set up some configuration:"
  },
  {
   "cell_type": "code",
   "execution_count": null,
   "metadata": {
    "deletable": false,
    "nbgrader": {
     "checksum": "b19d3cf794ee0028338e267ff0ea6f78",
     "grade": false,
     "grade_id": "boilerplate",
     "locked": true,
     "solution": false
    }
   },
   "outputs": [],
   "source": "import numpy as np\nimport pandas as pd\n\nfrom sklearn.utils import check_random_state\n\nimport matplotlib.pyplot as plt\nimport seaborn as sns\n\n# Magic function to make matplotlib inline; other style specs must come AFTER\n%matplotlib inline\n\n# Enable high resolution PNGs\n%config InlineBackend.figure_formats = {'png', 'retina'}\n\n# Seaborn settings for notebooks\nrc = {'lines.linewidth': 2, \n      'axes.labelsize': 18, \n      'axes.titlesize': 18, \n      'axes.facecolor': '#DFDFE5'}\nsns.set(context='notebook', style='darkgrid', rc=rc)\n\n"
  },
  {
   "cell_type": "markdown",
   "metadata": {
    "deletable": false,
    "nbgrader": {
     "checksum": "ece9f443fafbd0e2df93c9c2b4e82f3b",
     "grade": false,
     "grade_id": "numpy-index",
     "locked": true,
     "solution": false
    }
   },
   "source": "### Indexing in numpy\n\nIf you're already familiar with numpy indexing, you can skip to the next cell.\n\nNumpy has some great ways to index arrays, but they can sometimes be confusing to the uninitiated. If you're familiar with MATLAB arrays, [this cheat sheet](https://docs.scipy.org/doc/numpy-dev/user/numpy-for-matlab-users.html) is pretty useful.\n\n[The documentation on numpy indexing][1] is also fairly clear and has nice, simple examples. We'll be using most of the techniques on that page, like index arrays and boolean indexing.\n\nOne thing to note: if you use numpy indexing syntax to retrieve a single row of an array, this will often remove one of the dimensions from the shape of the result. Scikit-learn functions mostly don't like one-dimensional arrays (because they're ambiguous) and will complain. You can use `np.newaxis` to give you the shape you need (note that scikit-learn functions will usually recommend that you use `.reshape(-1,1)`, but this tends to be less intuitive -- examples are included below for comparison).\n\n    > X = np.random.randint(low=0, high=10, size=(2,5))\n    > print X\n    [[6 5 2 1 5]\n     [3 0 8 4 6]]\n    \n    > x = X[1]\n    > print 'The shape of x is', x.shape\n    > print x\n    The shape of x is (5L,)\n    [3 0 8 4 6]\n\nFor a column:\n\n    > print 'The shape of x[:,np.newaxis] is', x[:,np.newaxis].shape\n    > print x[:,np.newaxis]\n    The shape of x[:,np.newaxis] is (5L, 1L)\n    [[3]\n     [0]\n     [8]\n     [4]\n     [6]]\n\n    > print 'The shape of x.reshape(-1,1) is', x.reshape(-1,1).shape\n    > print x.reshape(-1,1)\n    The shape of x.reshape(-1,1) is (5L, 1L)\n    [[3]\n     [0]\n     [8]\n     [4]\n     [6]]\n\nFor a row:\n\n    > print 'The shape of x[np.newaxis,:] is', x[np.newaxis,:].shape\n    > print x[np.newaxis,:]\n    The shape of x[np.newaxis,:] is (1L, 5L)\n    [[3 0 8 4 6]]\n\n    > print 'The shape of x.reshape(1,-1) is', x.reshape(1,-1).shape\n    > print x.reshape(1,-1)\n    The shape of x.reshape(1,-1) is (1L, 5L)\n    [[3 0 8 4 6]]\n\n[1]: http://docs.scipy.org/doc/numpy/user/basics.indexing.html"
  },
  {
   "cell_type": "markdown",
   "metadata": {
    "deletable": false,
    "nbgrader": {
     "checksum": "4dd96dc9514aa5d437749da63d6df2e9",
     "grade": false,
     "grade_id": "numpy-broadcast",
     "locked": true,
     "solution": false
    }
   },
   "source": "### Broadcasting in Numpy\n\nWe'll also be using [broadcasting][2]. The [broadcasting documentation][2] is very simple and explanatory, so we don't need to get very far into it here.\n\n[2]: http://docs.scipy.org/doc/numpy/user/basics.broadcasting.html"
  },
  {
   "cell_type": "markdown",
   "metadata": {
    "deletable": false,
    "nbgrader": {
     "checksum": "074231dfec30a9751d5ed77fba8097ae",
     "grade": false,
     "grade_id": "prob-1-desc",
     "locked": true,
     "solution": false
    }
   },
   "source": "## Problem 1\n\nBelow is a function that computes Euclidean distance from some point in the dataset and every point in the dataset. That is, given $i$, and a matrix $X$ whose rows are points $x_j$, compute\n$$ \\|x_i - x_j\\| $$\nfor every $0\\leq j< \\text{n_samples}$.\n\nRecall that \n$$ \\|x\\| = \\sqrt{\\sum_{k=0}^{\\text{n_features}-1} x_k^2} $$\n\nThere will be code that you need to add to make the tests pass."
  },
  {
   "cell_type": "code",
   "execution_count": null,
   "metadata": {
    "collapsed": true,
    "deletable": false,
    "nbgrader": {
     "checksum": "c84015e8676b9d7417e4fe6b28696a78",
     "grade": false,
     "grade_id": "euclid-dist",
     "locked": false,
     "solution": true
    }
   },
   "outputs": [],
   "source": "def euclid_dist(idx, X):\n    \"\"\"Compute distances between X[idx,:] and every row of X\n    Parameters\n    ----------\n    idx : int\n        An index in the range [0,X.shape[0])\n    X : array of floats, shape (n_samples, n_features)\n        An array where every row represents a point\n    Returns\n    -------\n    distances : float ndarray with shape (n_samples,)\n        distances between X[idx,:] and every row of X\n    \"\"\"\n\n    row = X[idx]    \n    # The shape is wrong though:\n    row = row[np.newaxis,:]\n\n    # Create a new array D with the same shape as X so that a row i\n    # of D is X[i] - row\n    # HINT: Remember, we can use broadcasting rules\n    # YOUR CODE HERE\n    raise NotImplementedError()\n    \n    # We're computing Euclidean distance. Modify D so that every \n    # element of D is now the square of what it was before.\n    # YOUR CODE HERE\n    raise NotImplementedError()\n\n    # Now sum everything up along the feature dimension:\n    D = D.sum(axis=1)\n    # \"axis\" corresponds to the dimension that we want to sum.\n    \n    # We're computing Euclidean distance. Modify D so that the \n    # proper computation happens after summation.\n    # YOUR CODE HERE\n    raise NotImplementedError()\n    \n    return D"
  },
  {
   "cell_type": "code",
   "execution_count": null,
   "metadata": {
    "deletable": false,
    "nbgrader": {
     "checksum": "d9922f7c4d18c802441ffb86b4e90d71",
     "grade": true,
     "grade_id": "euclid-dist-test",
     "locked": true,
     "points": 2,
     "solution": false
    }
   },
   "outputs": [],
   "source": "X = np.eye(4)\nd = euclid_dist(0,X)\nassert(d.shape == (4,))\nassert(np.isclose(d, np.array([0,np.sqrt(2),np.sqrt(2),np.sqrt(2)])).all())\n\nd = euclid_dist(3,X)\nassert(d.shape == (4,))\nassert(np.isclose(d, np.array([np.sqrt(2),np.sqrt(2),np.sqrt(2),0])).all())"
  },
  {
   "cell_type": "markdown",
   "metadata": {
    "deletable": false,
    "nbgrader": {
     "checksum": "9a36087e2131661ca350d4e4750a3ebc",
     "grade": false,
     "grade_id": "prob-2-desc",
     "locked": true,
     "solution": false
    }
   },
   "source": "## Problem 2\n\nNow we're going to implement the FurthestPoint algorithm from the lecture notes. Some of the work has been done, like setting up arrays to hold data. You'll be in charge of implementing the innards of the loop.\n\nRemember that while you can always loop over the arrays to compute the values you need, numpy has ways to repeat most of the operations internally and far more efficiently. Implementing loops yourself is still allowed, however, and you will receive full credit as long as the tests pass."
  },
  {
   "cell_type": "code",
   "execution_count": null,
   "metadata": {
    "collapsed": true,
    "deletable": false,
    "nbgrader": {
     "checksum": "1c2b70e63acae53be350882ff5604aa7",
     "grade": false,
     "grade_id": "k-centers-impl",
     "locked": false,
     "solution": true
    }
   },
   "outputs": [],
   "source": "\n\ndef my_k_centers(X, n_clusters, seed=None):\n    \"\"\"K-centers clustering algorithm.\n    Parameters\n    ----------\n    X : array of floats, shape (n_samples, n_features)\n        The observations to cluster.\n    n_clusters : int\n        The number of clusters to form as well as the number of\n        centers to generate.\n    seed : int\n        The index of the initial point to choose as a cluster center.\n    Returns\n    -------\n    centers : float ndarray with shape (k, n_features)\n        Centers found by k-centers.\n    center_indices : float ndarray with shape (k, n_features)\n        Centers found by k-centers.\n    label : integer ndarray with shape (n_samples,)\n        label[i] is the code or index of the center the\n        i'th observation is closest to.\n    clust_size : float\n        The final value of the size criterion (max distance to the closest\n        centers over all observations in the training set).\n    \"\"\"\n    # X has the information we need for numbers of samples and features\n    n_samples, n_features = X.shape\n\n    # Set the id of the first cluster center to seed\n    cur_id = seed\n\n    # We're going to fill this, so just make it empty\n    centers = np.empty((n_clusters, n_features), dtype=X.dtype)\n    \n    # For recording the indices of the cluster centers\n    # i.e., X[center_indices,:] == centers; that is, center_indices will\n    # be an inex array.\n    center_indices = np.empty((n_clusters,), dtype=np.int32)\n    center_indices.fill(-1)\n\n    # Make an array for the distances, and fill it with infinity\n    mindist = np.empty(n_samples, dtype=np.float64)\n    mindist.fill(np.infty)\n    \n    # Make an array for the labels (integers) and fill with -1\n    labels = np.empty(n_samples, dtype=np.int32)\n    labels.fill(-1)\n    \n    # Now find the farthest point from the \n    for center_id in range(n_clusters):\n        # Update center_indices\n        # YOUR CODE HERE\n        raise NotImplementedError()\n\n        # Compute distances to new center\n        dist = euclid_dist(cur_id, X)\n        \n        # Update the labels of the points that \n        # are closer to the new center\n        # HINT: use boolean indexing to change just the elements\n        #       that you want to change\n        # YOUR CODE HERE\n        raise NotImplementedError()\n        \n        # Update mindist with the new minimum distances\n        # YOUR CODE HERE\n        raise NotImplementedError()\n        \n        # Update the index of the next cluster center (set cur_id)\n        # YOUR CODE HERE\n        raise NotImplementedError()\n\n    # Compute cluster size -- this equals the largest \n    # distance from a cluster center to any point that \n    # belongs to the cluster\n    #\n    # HINT: You already have this information, you just\n    #       need to look it up\n    # YOUR CODE HERE\n    raise NotImplementedError()\n\n    return X[center_indices], center_indices, labels, clust_size\n"
  },
  {
   "cell_type": "code",
   "execution_count": null,
   "metadata": {
    "deletable": false,
    "nbgrader": {
     "checksum": "9eba61010bd9964e264efadfea38d8ad",
     "grade": true,
     "grade_id": "k-centers-impl-test",
     "locked": true,
     "points": 2,
     "solution": false
    }
   },
   "outputs": [],
   "source": "X = np.eye(4)\ncenters, center_indices, labels, clust_size = my_k_centers(X, n_clusters=4, seed=0)\n\nassert(centers.sum() == 4)\nassert((centers.sum(axis=1) == np.ones((4,))).all())\n\nassert(center_indices.shape == (4,))\nassert(center_indices.min() == 0)\nassert(center_indices.max() == 3)\n\nassert(labels.shape == (4,))\nassert(labels.min() == 0)\nassert(labels.max() == 3)\n\nassert(clust_size == 0.0)\n\nassert(centers.shape == (4,X.shape[0]))"
  },
  {
   "cell_type": "markdown",
   "metadata": {
    "deletable": false,
    "nbgrader": {
     "checksum": "8f81a426825d6a4f9d7c2df4a9a83c9a",
     "grade": false,
     "grade_id": "prob-3-desc",
     "locked": true,
     "solution": false
    }
   },
   "source": "## Problem 3\n\nDescribe a dataset that \"breaks\" `my_k_centers`. That is, come up with a dataset that has an expected cluster structure, but the labels that `my_k_centers` returns doesn't match that expectation.\n\nFeel free to use a plot to help your description (you can add a new cell if necessary)."
  },
  {
   "cell_type": "markdown",
   "metadata": {
    "deletable": false,
    "nbgrader": {
     "checksum": "8d9590fdca860056fbf65e999a1604d5",
     "grade": true,
     "grade_id": "prob-3",
     "locked": false,
     "points": 2,
     "solution": true
    }
   },
   "source": "YOUR ANSWER HERE"
  },
  {
   "cell_type": "markdown",
   "metadata": {
    "deletable": false,
    "nbgrader": {
     "checksum": "0e84d9edeefb1dc333320ad7cc389a53",
     "grade": false,
     "grade_id": "using-metrics-intro",
     "locked": true,
     "solution": false
    }
   },
   "source": "## Using metrics\n\nIn the next two problems we will use the class from the `kcenter.py` file included with the assignment.\n\nThe class `KCenters` from this file works like other clustering algorithms from scikit-learn, and implements FurthestPoint, with the exception that we can use any metric that we like. We'll set up some data:"
  },
  {
   "cell_type": "code",
   "execution_count": null,
   "metadata": {
    "collapsed": true,
    "deletable": false,
    "nbgrader": {
     "checksum": "86de635ea37aeac0631744072e7f6553",
     "grade": false,
     "grade_id": "X-with-dataframe",
     "locked": true,
     "solution": false
    }
   },
   "outputs": [],
   "source": "# Sample from a square with corners (-1,-1) and (1,1)\nX = check_random_state(20160901).uniform(-1,1,size=(10000,2))"
  },
  {
   "cell_type": "markdown",
   "metadata": {
    "deletable": false,
    "nbgrader": {
     "checksum": "d2e1036508f3e5f9e10b1ed15d252e1f",
     "grade": false,
     "grade_id": "kcenters-l2-desc",
     "locked": true,
     "solution": false
    }
   },
   "source": "### $k$-centers with $\\ell_2$\n\nThe following cell computes $k$-centers on $X$ with the $\\ell_2$ or Euclidean metric, like you implemented above. "
  },
  {
   "cell_type": "code",
   "execution_count": null,
   "metadata": {
    "deletable": false,
    "nbgrader": {
     "checksum": "b901b68a4327f35196a7559cd3657501",
     "grade": false,
     "grade_id": "kcenters-l2",
     "locked": true,
     "solution": false
    }
   },
   "outputs": [],
   "source": "def plot_kcenters_with(X_, n_clusters=8, metric='l2', seed=0):\n    \n    from kcenter import KCenters\n    clust_ = KCenters(n_clusters=n_clusters, metric=metric, seed=seed)\n    \n    df_ = pd.DataFrame(X_, columns=['X0','X1'])\n    df_['ypred'] = clust_.fit_predict(X_)\n\n    # Plot the cluster assignments:\n    g = sns.FacetGrid(data=df_, hue='ypred', \n                      size=7, palette='Dark2', \n                      subplot_kws=dict(aspect='equal')) \n    g.map(plt.scatter,'X0','X1')\n\n    # Add the cluster centers with 'X' markers:\n    g.ax.scatter(x=clust_.cluster_centers_[:,0], \n                 y=clust_.cluster_centers_[:,1], \n                 marker='x', s=200, c='black', linewidths=2)\n    \n    return clust_\n\nplot_kcenters_with(X, metric='l2')"
  },
  {
   "cell_type": "markdown",
   "metadata": {
    "deletable": false,
    "nbgrader": {
     "checksum": "1ead8eebbe7ba80e0df79be4d6e21406",
     "grade": false,
     "grade_id": "my-kcenters-desc",
     "locked": true,
     "solution": false
    }
   },
   "source": "If you were to use `my_k_centers` on the data, then you should get the same result:"
  },
  {
   "cell_type": "code",
   "execution_count": null,
   "metadata": {
    "deletable": false,
    "nbgrader": {
     "checksum": "433b176c318dbfddd6936f06c1a9c690",
     "grade": false,
     "grade_id": "mykcenters-l2",
     "locked": true,
     "solution": false
    }
   },
   "outputs": [],
   "source": "centers, center_indices, labels, clust_size = my_k_centers(X, n_clusters=8, seed=0)\ndf = pd.DataFrame(X, columns=['X0','X1'])\ndf['ypred'] = labels\n\n# Plot the cluster assignments:\ng = sns.FacetGrid(data=df, hue='ypred', size=7, palette='Dark2', subplot_kws=dict(aspect='equal')) \ng.map(plt.scatter,'X0','X1')\n\n# Add the cluster centers with 'X' markers:\ng.ax.scatter(x=centers[:,0], y=centers[:,1],marker='x',s=200,c='black', linewidths=2)"
  },
  {
   "cell_type": "markdown",
   "metadata": {
    "deletable": false,
    "nbgrader": {
     "checksum": "ef432da26de0071f2a3714f733b573eb",
     "grade": false,
     "grade_id": "problem-4-desc",
     "locked": true,
     "solution": false
    }
   },
   "source": "## Problem 4\n\nLet's try the same with $\\ell_1$. Observe the boundaries between clusters. Why are the boundaries made up of lines at multiples of 45 degrees?"
  },
  {
   "cell_type": "code",
   "execution_count": null,
   "metadata": {
    "deletable": false,
    "nbgrader": {
     "checksum": "e8d091a1f18adb7b447e1a77a7a617e7",
     "grade": false,
     "grade_id": "problem-4-plot",
     "locked": true,
     "solution": false
    }
   },
   "outputs": [],
   "source": "plot_kcenters_with(X, metric='l1')"
  },
  {
   "cell_type": "markdown",
   "metadata": {
    "collapsed": true,
    "deletable": false,
    "nbgrader": {
     "checksum": "814628c1ab602869b8693d6e423b90b2",
     "grade": true,
     "grade_id": "problem-4-answer",
     "locked": false,
     "points": 2,
     "solution": true
    }
   },
   "source": "YOUR ANSWER HERE"
  },
  {
   "cell_type": "markdown",
   "metadata": {
    "deletable": false,
    "nbgrader": {
     "checksum": "781e70799a153062d03cbb4efef9b8be",
     "grade": false,
     "grade_id": "problem-5-desc",
     "locked": true,
     "solution": false
    }
   },
   "source": "## Problem 5\n\nNow let's test with the cosine metric. Why Do we see a radial structure?"
  },
  {
   "cell_type": "code",
   "execution_count": null,
   "metadata": {
    "deletable": false,
    "nbgrader": {
     "checksum": "1f260fb6de226b4b776a16e28da2cee9",
     "grade": false,
     "grade_id": "problem-5-plot",
     "locked": true,
     "solution": false
    }
   },
   "outputs": [],
   "source": "clust = plot_kcenters_with(X, metric='cosine')\nclust = plot_kcenters_with(X+np.array([[.5,.5]]), metric='cosine')"
  },
  {
   "cell_type": "markdown",
   "metadata": {
    "collapsed": true,
    "deletable": false,
    "nbgrader": {
     "checksum": "dde50bc0cc9e6dd142ef1a8fdf94fe68",
     "grade": true,
     "grade_id": "problem-5-answer",
     "locked": false,
     "points": 2,
     "solution": true
    }
   },
   "source": "YOUR ANSWER HERE"
  }
 ],
 "metadata": {
  "kernelspec": {
   "display_name": "Python 2",
   "language": "python",
   "name": "python2"
  },
  "language_info": {
   "codemirror_mode": {
    "name": "ipython",
    "version": 2
   },
   "file_extension": ".py",
   "mimetype": "text/x-python",
   "name": "python",
   "nbconvert_exporter": "python",
   "pygments_lexer": "ipython2",
   "version": "2.7.17"
  }
 },
 "nbformat": 4,
 "nbformat_minor": 1
}
